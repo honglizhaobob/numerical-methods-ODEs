{
 "cells": [
  {
   "cell_type": "markdown",
   "metadata": {},
   "source": [
    "**November 4, 2019**\n",
    "\n",
    "1. Consider \n",
    "$$ \n",
    "    x = 2 ^ {1099}\n",
    "$$\n",
    "\n",
    "What is the singles digit of $x$?"
   ]
  },
  {
   "cell_type": "markdown",
   "metadata": {},
   "source": [
    "**Solution**\n",
    "Only considering the singles digit $2 ^ {n}$, we have:\n",
    "$$\n",
    "    2 ^ 1 = 2 \\\\\n",
    "    2 ^ 2 = 2 \\cdot 2 \\rightarrow 4 \\\\\n",
    "    2 ^ 3 = 4 \\cdot 2 \\rightarrow 8 \\\\\n",
    "    2 ^ 4 = 8 \\cdot 2 \\rightarrow 6 \\\\\n",
    "    2 ^ 5 = 6 \\cdot 2 \\rightarrow 2 \\\\\n",
    "$$\n",
    "\n",
    "The singles digit can be viewed as a cycle $( 2 \\rightarrow 4 \\rightarrow 8 \\rightarrow 6)$ with length 4.\n",
    "The exponential $1099 \\mod 4 = 3$, corresponding the third element in the cycle. \n",
    "$2 ^ {1099} = 8$.\n",
    "\n",
    "[READ] Fermat-Euler's Theorem: https://en.wikipedia.org/wiki/Euler%27s_theorem"
   ]
  },
  {
   "cell_type": "markdown",
   "metadata": {},
   "source": [
    "**November 15, 2019**\n",
    "1. Design an algorithm to numerically approximate $\\sqrt2$.\n",
    "2. How accurate is this algorithm in 1.?\n",
    "3. If cost is not a problem, can we make it converge faster?\n",
    "4. Generalize to matrix case."
   ]
  },
  {
   "cell_type": "markdown",
   "metadata": {},
   "source": [
    "1.\n",
    "The problem is the same as finding the root for $f(x) = 0$, where $f(x) = x^2 - 2$. \n",
    "The root-finding problem is easily solved using Newton's iteration $x_{n+1} = x_n - \\frac{f(x_n)}{f'(x_n)}$.\n",
    "[Code] Written in Julia:\n",
    "\n",
    "Our scheme is formulated as follows:\n",
    "$$\n",
    "    x_{n+1} = x_n - \\frac{x_n^2 - 2}{2x_n} = \\frac12 (x_n + \\frac2{x_n})\n",
    "$$"
   ]
  },
  {
   "cell_type": "code",
   "execution_count": 28,
   "metadata": {},
   "outputs": [
    {
     "name": "stdout",
     "output_type": "stream",
     "text": [
      "good guess: 1.4142857142857141\n",
      "bad guess: 14.035714285714286"
     ]
    }
   ],
   "source": [
    "#= Function representing a newton's method to calculate square roots,\n",
    "returns the approximate sqrt up to error 10^-8. =#\n",
    "function newton_sqrt(guess, maxIter)\n",
    "    iter = 0\n",
    "    xn = guess\n",
    "    x_next = 10\n",
    "    while iter < maxIter && abs(x_next - xn) > 10^(-8)\n",
    "        x_next = 0.5 * (xn + 2/xn)\n",
    "        xn = x_next # update x_n\n",
    "        iter = iter + 1\n",
    "    end\n",
    "    return x_next\n",
    "end\n",
    "good_guess = 1.4\n",
    "bad_guess = 28\n",
    "good = newton_sqrt(good_guess, 100)\n",
    "diverge = newton_sqrt(bad_guess, 100)\n",
    "print(\"good guess: \", good, \"\\n\")\n",
    "print(\"bad guess: \", diverge)"
   ]
  },
  {
   "cell_type": "markdown",
   "metadata": {},
   "source": [
    "2. Details omitted, consider Taylor expansion around $x_n$ for each step, where $x$ is our exact solution:\n",
    "$$\n",
    "    f(x) = f(x_n) + f'(x_n) (x - x_n) + O(||x-x_n||^2)\n",
    "$$\n",
    "\n",
    "We find that $x_{n+1} = F(x_n)$ iteration would yield local error of order 2.\n",
    "\n",
    "3. By continuing Taylor expansion, we theoretically can derive this method up to arbitrary order, but it will be very costly to compute derivatives, especially in the matrix case.\n",
    "\n",
    "4. [Exercise]. For more, refer to: **[Tobias von Petersdorff]** Fixed Point Iteration and Contraction Mapping Theorem, which also explains why we need a \"good guess\". In some cases, we don't need a good guess."
   ]
  }
 ],
 "metadata": {
  "kernelspec": {
   "display_name": "Julia 1.2.0",
   "language": "julia",
   "name": "julia-1.2"
  },
  "language_info": {
   "file_extension": ".jl",
   "mimetype": "application/julia",
   "name": "julia",
   "version": "1.2.0"
  }
 },
 "nbformat": 4,
 "nbformat_minor": 2
}
